{
 "cells": [
  {
   "cell_type": "code",
   "execution_count": 1,
   "id": "58005447",
   "metadata": {},
   "outputs": [],
   "source": [
    "import os\n",
    "import DuckDuckGoImages as ddg"
   ]
  },
  {
   "cell_type": "code",
   "execution_count": 2,
   "id": "0e93ed6e",
   "metadata": {},
   "outputs": [],
   "source": [
    "os.makedirs('downloads', exist_ok=True)"
   ]
  },
  {
   "cell_type": "code",
   "execution_count": 3,
   "id": "d1d4ed29",
   "metadata": {},
   "outputs": [
    {
     "name": "stdout",
     "output_type": "stream",
     "text": [
      "Sequential download\n"
     ]
    },
    {
     "data": {
      "application/vnd.jupyter.widget-view+json": {
       "model_id": "0300785514a5460ea4ded5797c04dfe2",
       "version_major": 2,
       "version_minor": 0
      },
      "text/plain": [
       "  0%|          | 0/10 [00:00<?, ?it/s]"
      ]
     },
     "metadata": {},
     "output_type": "display_data"
    },
    {
     "data": {
      "text/plain": [
       "8"
      ]
     },
     "execution_count": 3,
     "metadata": {},
     "output_type": "execute_result"
    }
   ],
   "source": [
    "print('Sequential download')\n",
    "ddg.download('kittens', folder='downloads', max_urls=10)"
   ]
  },
  {
   "cell_type": "code",
   "execution_count": 4,
   "id": "ff0f5970",
   "metadata": {},
   "outputs": [
    {
     "name": "stdout",
     "output_type": "stream",
     "text": [
      "Parallel download\n"
     ]
    },
    {
     "data": {
      "application/vnd.jupyter.widget-view+json": {
       "model_id": "9c5b6fa5103d46a1bfc47a7e71188719",
       "version_major": 2,
       "version_minor": 0
      },
      "text/plain": [
       "  0%|          | 0/10 [00:00<?, ?it/s]"
      ]
     },
     "metadata": {},
     "output_type": "display_data"
    },
    {
     "data": {
      "text/plain": [
       "8"
      ]
     },
     "execution_count": 4,
     "metadata": {},
     "output_type": "execute_result"
    }
   ],
   "source": [
    "print('Parallel download')\n",
    "ddg.download('kittens', folder='downloads', parallel=True, max_urls=10)"
   ]
  },
  {
   "cell_type": "code",
   "execution_count": null,
   "id": "6e18622f",
   "metadata": {},
   "outputs": [],
   "source": []
  }
 ],
 "metadata": {
  "kernelspec": {
   "display_name": "Python [conda env:.conda-duck39]",
   "language": "python",
   "name": "conda-env-.conda-duck39-py"
  },
  "language_info": {
   "codemirror_mode": {
    "name": "ipython",
    "version": 3
   },
   "file_extension": ".py",
   "mimetype": "text/x-python",
   "name": "python",
   "nbconvert_exporter": "python",
   "pygments_lexer": "ipython3",
   "version": "3.9.7"
  }
 },
 "nbformat": 4,
 "nbformat_minor": 5
}
