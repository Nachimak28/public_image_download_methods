{
 "cells": [
  {
   "cell_type": "markdown",
   "id": "7c95786a",
   "metadata": {},
   "source": [
    "# Imports"
   ]
  },
  {
   "cell_type": "code",
   "execution_count": 1,
   "id": "474409b9",
   "metadata": {},
   "outputs": [],
   "source": [
    "import os\n",
    "import requests\n",
    "import shutil\n",
    "from PIL import Image, UnidentifiedImageError\n",
    "from requests.exceptions import HTTPError\n",
    "from io import BytesIO\n",
    "from tqdm.auto import tqdm"
   ]
  },
  {
   "cell_type": "markdown",
   "id": "fc1c700e",
   "metadata": {},
   "source": [
    "# Sequential download"
   ]
  },
  {
   "cell_type": "code",
   "execution_count": 2,
   "id": "798ac906",
   "metadata": {},
   "outputs": [],
   "source": [
    "# build the download directory or simply assign the dest variable some existing directory\n",
    "dest = './huggingpics/'\n",
    "os.makedirs(dest, exist_ok=True)"
   ]
  },
  {
   "cell_type": "code",
   "execution_count": 3,
   "id": "202d71c6",
   "metadata": {},
   "outputs": [],
   "source": [
    "# shamelessly borrowed from https://github.com/nateraw/huggingpics\n",
    "# slightly modified\n",
    "\n",
    "SEARCH_URL = \"https://huggingface.co/api/experimental/images/search\"\n",
    "\n",
    "def get_image_urls_by_term(search_term: str, count=150, thumbnail=True):\n",
    "    params  = {\"q\": search_term, \"license\": \"public\", \"imageType\": \"photo\", \"count\": count}\n",
    "    response = requests.get(SEARCH_URL, params=params)\n",
    "    response.raise_for_status()\n",
    "    response_data = response.json()\n",
    "    if thumbnail:\n",
    "        key = 'thumbnailUrl'   # if thumbnail flag is set to True, a small thumbnail is downloaded\n",
    "    else:\n",
    "        key = 'contentUrl'     # if thumbnail flag is set to False, a large image is downloaded\n",
    "    image_urls = [img[key] for img in response_data['value']]\n",
    "    return image_urls\n",
    "\n",
    "\n",
    "def gen_images_from_urls(urls, dest):\n",
    "    num_skipped = 0\n",
    "    for i, url in enumerate(tqdm(urls)):\n",
    "        response = requests.get(url)\n",
    "        if not response.status_code == 200:\n",
    "            num_skipped += 1\n",
    "        try:\n",
    "            img = Image.open(BytesIO(response.content))\n",
    "            # yield img\n",
    "            img.save(os.path.join(dest, f'{i}.jpg'))\n",
    "        except UnidentifiedImageError:\n",
    "            num_skipped +=1\n",
    "\n",
    "    print(f\"Retrieved {len(urls) - num_skipped} images. Skipped {num_skipped}.\")"
   ]
  },
  {
   "cell_type": "code",
   "execution_count": 4,
   "id": "6aaa0222",
   "metadata": {},
   "outputs": [],
   "source": [
    "# generate the URLS\n",
    "urls = get_image_urls_by_term(search_term='northern lights', count=50, thumbnail=True)"
   ]
  },
  {
   "cell_type": "code",
   "execution_count": 5,
   "id": "7d18e864",
   "metadata": {},
   "outputs": [
    {
     "data": {
      "text/plain": [
       "['https://tse3.mm.bing.net/th?id=OIP.GRPWYjmpKFK2zcxTyCgDtQHaEo&pid=Api',\n",
       " 'https://tse2.mm.bing.net/th?id=OIP.ASrM6kHRQFLnwRtJ9uKrDgHaDl&pid=Api',\n",
       " 'https://tse3.mm.bing.net/th?id=OIP.WLg05vsBc3tkxp8qU57ZVQHaCF&pid=Api',\n",
       " 'https://tse3.mm.bing.net/th?id=OIP.wYgB4CwHcQGx8SnFJ_sCVQHaEo&pid=Api',\n",
       " 'https://tse4.mm.bing.net/th?id=OIP.Q6XA_lGFgAW2L5uF-jjGlQHaE7&pid=Api']"
      ]
     },
     "execution_count": 5,
     "metadata": {},
     "output_type": "execute_result"
    }
   ],
   "source": [
    "urls[:5]"
   ]
  },
  {
   "cell_type": "code",
   "execution_count": 6,
   "id": "1813a856",
   "metadata": {},
   "outputs": [
    {
     "data": {
      "application/vnd.jupyter.widget-view+json": {
       "model_id": "3dd8401da0fa49e6b19c1ac326e952a8",
       "version_major": 2,
       "version_minor": 0
      },
      "text/plain": [
       "  0%|          | 0/50 [00:00<?, ?it/s]"
      ]
     },
     "metadata": {},
     "output_type": "display_data"
    },
    {
     "name": "stdout",
     "output_type": "stream",
     "text": [
      "Retrieved 50 images. Skipped 0.\n"
     ]
    }
   ],
   "source": [
    "# download the images sequentially\n",
    "gen_images_from_urls(urls, dest)"
   ]
  },
  {
   "cell_type": "markdown",
   "id": "a2b660e6",
   "metadata": {},
   "source": [
    "# Parallel downloads\n",
    "\n",
    "Using Joblib to parallelize download operation"
   ]
  },
  {
   "cell_type": "code",
   "execution_count": 7,
   "id": "502fefa8",
   "metadata": {},
   "outputs": [],
   "source": [
    "import uuid\n",
    "import joblib\n",
    "import contextlib"
   ]
  },
  {
   "cell_type": "code",
   "execution_count": 8,
   "id": "1a3e3164",
   "metadata": {},
   "outputs": [],
   "source": [
    "@contextlib.contextmanager\n",
    "def tqdm_parallel(tqdm_object):\n",
    "    \"\"\"Context manager to patch joblib to display tqdm progress bar\"\"\"\n",
    "\n",
    "    def tqdm_print_progress(self):\n",
    "        if self.n_completed_tasks > tqdm_object.n:\n",
    "            n_completed = self.n_completed_tasks - tqdm_object.n\n",
    "            tqdm_object.update(n=n_completed)\n",
    "\n",
    "    original_print_progress = joblib.parallel.Parallel.print_progress\n",
    "    joblib.parallel.Parallel.print_progress = tqdm_print_progress\n",
    "\n",
    "    try:\n",
    "        yield tqdm_object\n",
    "    finally:\n",
    "        joblib.parallel.Parallel.print_progress = original_print_progress\n",
    "        tqdm_object.close()"
   ]
  },
  {
   "cell_type": "code",
   "execution_count": 9,
   "id": "ef4a76f6",
   "metadata": {},
   "outputs": [],
   "source": [
    "def download_single_image(url, dest):\n",
    "    response = requests.get(url)\n",
    "    if not response.status_code == 200:\n",
    "        return False\n",
    "    try:\n",
    "        # generate uuid based filename\n",
    "        filename = str(uuid.uuid4().hex)\n",
    "        while os.path.exists(os.path.join(dest, f'{filename}.jpg')):\n",
    "            filename = str(uuid.uuid4().hex) # keep generating new uuid until it already does not exist in the directory\n",
    "        file_path = os.path.join(dest, f'{filename}.jpg')\n",
    "        img = Image.open(BytesIO(response.content))\n",
    "        # yield img\n",
    "        img.save(file_path)\n",
    "        return True\n",
    "    except UnidentifiedImageError:\n",
    "        return False"
   ]
  },
  {
   "cell_type": "code",
   "execution_count": 10,
   "id": "707c373d",
   "metadata": {},
   "outputs": [],
   "source": [
    "def parallel_gen_images_from_urls(urls, dest):\n",
    "    downloaded = 0\n",
    "    with tqdm_parallel(tqdm(total=len(urls))):\n",
    "        with joblib.Parallel(n_jobs=os.cpu_count()) as parallel:\n",
    "            results = parallel(joblib.delayed(download_single_image)(url, dest) for url in urls)\n",
    "            for result in results:\n",
    "                if result:\n",
    "                    downloaded += 1\n",
    "    print(f\"Retrieved {downloaded} images. Skipped {len(urls) - downloaded}.\")"
   ]
  },
  {
   "cell_type": "code",
   "execution_count": 11,
   "id": "752479f9",
   "metadata": {},
   "outputs": [
    {
     "data": {
      "application/vnd.jupyter.widget-view+json": {
       "model_id": "6aee4a2dd995429f9d9496f07608d10c",
       "version_major": 2,
       "version_minor": 0
      },
      "text/plain": [
       "  0%|          | 0/50 [00:00<?, ?it/s]"
      ]
     },
     "metadata": {},
     "output_type": "display_data"
    },
    {
     "name": "stdout",
     "output_type": "stream",
     "text": [
      "Retrieved 50 images. Skipped 0.\n"
     ]
    }
   ],
   "source": [
    "parallel_gen_images_from_urls(urls, dest)"
   ]
  },
  {
   "cell_type": "code",
   "execution_count": 12,
   "id": "6b908c03",
   "metadata": {},
   "outputs": [
    {
     "data": {
      "text/plain": [
       "4"
      ]
     },
     "execution_count": 12,
     "metadata": {},
     "output_type": "execute_result"
    }
   ],
   "source": [
    "os.cpu_count()"
   ]
  },
  {
   "cell_type": "markdown",
   "id": "ea72bbaf",
   "metadata": {},
   "source": [
    "# Performance comparsion\n",
    "\n",
    "Note: My PC has a **4** Core CPU\n",
    "* Sequential download took 14-15 seconds to download 50 images.\n",
    "* Parallel download took 4-5 seconds to download 50 images. Approximately 3X speedup over sequential download"
   ]
  },
  {
   "cell_type": "code",
   "execution_count": null,
   "id": "d047c8f0",
   "metadata": {},
   "outputs": [],
   "source": []
  }
 ],
 "metadata": {
  "kernelspec": {
   "display_name": "Python [conda env:.conda-img] *",
   "language": "python",
   "name": "conda-env-.conda-img-py"
  },
  "language_info": {
   "codemirror_mode": {
    "name": "ipython",
    "version": 3
   },
   "file_extension": ".py",
   "mimetype": "text/x-python",
   "name": "python",
   "nbconvert_exporter": "python",
   "pygments_lexer": "ipython3",
   "version": "3.7.11"
  }
 },
 "nbformat": 4,
 "nbformat_minor": 5
}
